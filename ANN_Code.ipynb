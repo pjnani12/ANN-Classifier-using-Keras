{
 "cells": [
  {
   "cell_type": "markdown",
   "metadata": {},
   "source": [
    "# 1.Import the libraries and Load the dataset"
   ]
  },
  {
   "cell_type": "code",
   "execution_count": 8,
   "metadata": {},
   "outputs": [],
   "source": [
    "import pandas as pd\n",
    "import numpy as np\n",
    "import tensorflow.keras as keras\n",
    "import numpy as np\n",
    "from sklearn.model_selection import train_test_split\n",
    "from tensorflow.keras.preprocessing.text import Tokenizer\n",
    "from tensorflow.keras.preprocessing.sequence import pad_sequences\n",
    "from tensorflow.keras import regularizers\n",
    "from sklearn.preprocessing import LabelEncoder\n",
    "from sklearn.preprocessing import StandardScaler\n",
    "import matplotlib.pyplot as plt"
   ]
  },
  {
   "cell_type": "code",
   "execution_count": null,
   "metadata": {},
   "outputs": [],
   "source": [
    "df=pd.read_csv('advertising-1.csv',header=0)"
   ]
  },
  {
   "cell_type": "code",
   "execution_count": null,
   "metadata": {},
   "outputs": [],
   "source": [
    "df.head()"
   ]
  },
  {
   "cell_type": "code",
   "execution_count": null,
   "metadata": {},
   "outputs": [],
   "source": [
    "df.isnull().any()\n",
    "##no null values to replace"
   ]
  },
  {
   "cell_type": "markdown",
   "metadata": {},
   "source": [
    "# 2.Split features and labels"
   ]
  },
  {
   "cell_type": "code",
   "execution_count": null,
   "metadata": {},
   "outputs": [],
   "source": [
    "y=df['Clicked on Ad']"
   ]
  },
  {
   "cell_type": "code",
   "execution_count": null,
   "metadata": {},
   "outputs": [],
   "source": [
    "X=df.drop(columns=['Clicked on Ad'])"
   ]
  },
  {
   "cell_type": "code",
   "execution_count": null,
   "metadata": {},
   "outputs": [],
   "source": [
    "X.head()"
   ]
  },
  {
   "cell_type": "markdown",
   "metadata": {},
   "source": [
    "# 3.Split train and test data"
   ]
  },
  {
   "cell_type": "markdown",
   "metadata": {},
   "source": [
    "## Apart from splitting training and test we will do data preprocessing to handle non numeric columns"
   ]
  },
  {
   "cell_type": "code",
   "execution_count": 8,
   "metadata": {},
   "outputs": [],
   "source": [
    "##20% test data\n",
    "X_train, X_test, y_train, y_test = train_test_split(X, y, test_size=0.2)"
   ]
  },
  {
   "cell_type": "code",
   "execution_count": 9,
   "metadata": {},
   "outputs": [],
   "source": [
    "##data pre-processing for training"
   ]
  },
  {
   "cell_type": "code",
   "execution_count": 10,
   "metadata": {},
   "outputs": [],
   "source": [
    "## Taking out the numeric features\n",
    "X_train_numeric=X_train[['Daily Time Spent on Site','Age', 'Area Income','Daily Internet Usage','Male']]"
   ]
  },
  {
   "cell_type": "code",
   "execution_count": 11,
   "metadata": {},
   "outputs": [],
   "source": [
    "## Preprocsssing the date to make it numeric - we will take day of week to make it numeric and add it to rest of the numeric fields\n",
    "\n",
    "X_train_numeric=pd.concat([X_train_numeric,pd.to_datetime(X_train.Timestamp).dt.dayofweek],axis=1)\n"
   ]
  },
  {
   "cell_type": "code",
   "execution_count": 12,
   "metadata": {},
   "outputs": [],
   "source": [
    "## Prerocessing the 'Ad Topic Line' column by tokenizing it\n",
    "tokenizer=Tokenizer(num_words=1000)\n",
    "tokenizer.fit_on_texts(X_train['Ad Topic Line'])\n",
    "sequences = tokenizer.texts_to_sequences(X_train['Ad Topic Line'])\n",
    "padded = pad_sequences(sequences, maxlen=6) ## max len =6 as the texts are quiet small\n",
    "X_train_nlp= np.array(padded) ## padding to make all sequences similar"
   ]
  },
  {
   "cell_type": "code",
   "execution_count": 13,
   "metadata": {},
   "outputs": [],
   "source": [
    "##We will ignore the country and city field"
   ]
  },
  {
   "cell_type": "code",
   "execution_count": 14,
   "metadata": {},
   "outputs": [],
   "source": [
    "## Concatenating all the train data for training\n",
    "X_train=np.concatenate((X_train_numeric,X_train_nlp),axis=1)"
   ]
  },
  {
   "cell_type": "code",
   "execution_count": 15,
   "metadata": {},
   "outputs": [],
   "source": [
    "## Before training we will scale the data using standard scaler\n",
    "ss=StandardScaler()\n",
    "X_train=ss.fit_transform(X_train)"
   ]
  },
  {
   "cell_type": "code",
   "execution_count": 16,
   "metadata": {},
   "outputs": [
    {
     "data": {
      "text/plain": [
       "(800, 12)"
      ]
     },
     "execution_count": 16,
     "metadata": {},
     "output_type": "execute_result"
    }
   ],
   "source": [
    "X_train.shape"
   ]
  },
  {
   "cell_type": "markdown",
   "metadata": {},
   "source": [
    "# 4.Implement ANN Classifier using Keras"
   ]
  },
  {
   "cell_type": "code",
   "execution_count": 17,
   "metadata": {},
   "outputs": [],
   "source": [
    "## Implementing a single hidden layer ANN as dataset is simple -- to avoid overfitting\n",
    "## also added some regulariziation as i could see overfitting\n",
    "model = keras.models.Sequential([\n",
    "    keras.layers.Flatten(input_shape=[12]),\n",
    "    keras.layers.Dense(25, activation=\"relu\",kernel_regularizer=regularizers.l1_l2(l1=0.1,l2=0.1)), ## Relu widely used activation in industry\n",
    "    keras.layers.Dense(1, activation=\"sigmoid\") ## binary classification hence sigmoid\n",
    "])"
   ]
  },
  {
   "cell_type": "code",
   "execution_count": 18,
   "metadata": {},
   "outputs": [],
   "source": [
    "## compiling\n",
    "model.compile(loss=\"binary_crossentropy\", ## binary crross entropy loss\n",
    "              optimizer=keras.optimizers.Adam(lr=0.001), ## adam optimizer for faster convergence\n",
    "              metrics=[\"accuracy\"]) ## balanced class probelm hence accuracy"
   ]
  },
  {
   "cell_type": "code",
   "execution_count": 19,
   "metadata": {},
   "outputs": [
    {
     "name": "stdout",
     "output_type": "stream",
     "text": [
      "Epoch 1/30\n",
      "23/23 [==============================] - 1s 19ms/step - loss: 8.6035 - accuracy: 0.4431 - val_loss: 7.8753 - val_accuracy: 0.4000\n",
      "Epoch 2/30\n",
      "23/23 [==============================] - 0s 5ms/step - loss: 7.5761 - accuracy: 0.4941 - val_loss: 6.9530 - val_accuracy: 0.4500\n",
      "Epoch 3/30\n",
      "23/23 [==============================] - 0s 5ms/step - loss: 6.7219 - accuracy: 0.4789 - val_loss: 6.1187 - val_accuracy: 0.5125\n",
      "Epoch 4/30\n",
      "23/23 [==============================] - 0s 5ms/step - loss: 5.8845 - accuracy: 0.5540 - val_loss: 5.3570 - val_accuracy: 0.5750\n",
      "Epoch 5/30\n",
      "23/23 [==============================] - 0s 5ms/step - loss: 5.1564 - accuracy: 0.6119 - val_loss: 4.6812 - val_accuracy: 0.6125\n",
      "Epoch 6/30\n",
      "23/23 [==============================] - 0s 5ms/step - loss: 4.5076 - accuracy: 0.6681 - val_loss: 4.0679 - val_accuracy: 0.6500\n",
      "Epoch 7/30\n",
      "23/23 [==============================] - 0s 5ms/step - loss: 3.9068 - accuracy: 0.7557 - val_loss: 3.5138 - val_accuracy: 0.7375\n",
      "Epoch 8/30\n",
      "23/23 [==============================] - 0s 5ms/step - loss: 3.3684 - accuracy: 0.8103 - val_loss: 3.0148 - val_accuracy: 0.8000\n",
      "Epoch 9/30\n",
      "23/23 [==============================] - 0s 5ms/step - loss: 2.8904 - accuracy: 0.8247 - val_loss: 2.5680 - val_accuracy: 0.8375\n",
      "Epoch 10/30\n",
      "23/23 [==============================] - 0s 5ms/step - loss: 2.4568 - accuracy: 0.8827 - val_loss: 2.1763 - val_accuracy: 0.8750\n",
      "Epoch 11/30\n",
      "23/23 [==============================] - 0s 5ms/step - loss: 2.0816 - accuracy: 0.8974 - val_loss: 1.8387 - val_accuracy: 0.8875\n",
      "Epoch 12/30\n",
      "23/23 [==============================] - 0s 5ms/step - loss: 1.7543 - accuracy: 0.9080 - val_loss: 1.5480 - val_accuracy: 0.9250\n",
      "Epoch 13/30\n",
      "23/23 [==============================] - 0s 5ms/step - loss: 1.4782 - accuracy: 0.9305 - val_loss: 1.3022 - val_accuracy: 0.9500\n",
      "Epoch 14/30\n",
      "23/23 [==============================] - 0s 5ms/step - loss: 1.2430 - accuracy: 0.9384 - val_loss: 1.1016 - val_accuracy: 0.9750\n",
      "Epoch 15/30\n",
      "23/23 [==============================] - 0s 5ms/step - loss: 1.0598 - accuracy: 0.9383 - val_loss: 0.9473 - val_accuracy: 0.9750\n",
      "Epoch 16/30\n",
      "23/23 [==============================] - 0s 5ms/step - loss: 0.9156 - accuracy: 0.9484 - val_loss: 0.8287 - val_accuracy: 0.9750\n",
      "Epoch 17/30\n",
      "23/23 [==============================] - 0s 5ms/step - loss: 0.8068 - accuracy: 0.9549 - val_loss: 0.7353 - val_accuracy: 0.9875\n",
      "Epoch 18/30\n",
      "23/23 [==============================] - 0s 5ms/step - loss: 0.7204 - accuracy: 0.9585 - val_loss: 0.6719 - val_accuracy: 0.9875\n",
      "Epoch 19/30\n",
      "23/23 [==============================] - 0s 5ms/step - loss: 0.6661 - accuracy: 0.9574 - val_loss: 0.6292 - val_accuracy: 0.9875\n",
      "Epoch 20/30\n",
      "23/23 [==============================] - 0s 5ms/step - loss: 0.6239 - accuracy: 0.9675 - val_loss: 0.6065 - val_accuracy: 1.0000\n",
      "Epoch 21/30\n",
      "23/23 [==============================] - 0s 5ms/step - loss: 0.6031 - accuracy: 0.9557 - val_loss: 0.5921 - val_accuracy: 1.0000\n",
      "Epoch 22/30\n",
      "23/23 [==============================] - 0s 5ms/step - loss: 0.5980 - accuracy: 0.9525 - val_loss: 0.5807 - val_accuracy: 1.0000\n",
      "Epoch 23/30\n",
      "23/23 [==============================] - 0s 5ms/step - loss: 0.5802 - accuracy: 0.9624 - val_loss: 0.5728 - val_accuracy: 1.0000\n",
      "Epoch 24/30\n",
      "23/23 [==============================] - 0s 5ms/step - loss: 0.5718 - accuracy: 0.9609 - val_loss: 0.5612 - val_accuracy: 1.0000\n",
      "Epoch 25/30\n",
      "23/23 [==============================] - 0s 5ms/step - loss: 0.5639 - accuracy: 0.9523 - val_loss: 0.5506 - val_accuracy: 1.0000\n",
      "Epoch 26/30\n",
      "23/23 [==============================] - 0s 5ms/step - loss: 0.5543 - accuracy: 0.9547 - val_loss: 0.5417 - val_accuracy: 1.0000\n",
      "Epoch 27/30\n",
      "23/23 [==============================] - 0s 5ms/step - loss: 0.5554 - accuracy: 0.9413 - val_loss: 0.5332 - val_accuracy: 1.0000\n",
      "Epoch 28/30\n",
      "23/23 [==============================] - 0s 5ms/step - loss: 0.5461 - accuracy: 0.9490 - val_loss: 0.5246 - val_accuracy: 1.0000\n",
      "Epoch 29/30\n",
      "23/23 [==============================] - 0s 5ms/step - loss: 0.5309 - accuracy: 0.9596 - val_loss: 0.5150 - val_accuracy: 1.0000\n",
      "Epoch 30/30\n",
      "23/23 [==============================] - 0s 5ms/step - loss: 0.5275 - accuracy: 0.9572 - val_loss: 0.5070 - val_accuracy: 1.0000\n"
     ]
    }
   ],
   "source": [
    "## saving a history object and splitting for validation 10%\n",
    "history=model.fit(X_train,y_train,epochs=30,validation_split=0.1)"
   ]
  },
  {
   "cell_type": "code",
   "execution_count": 20,
   "metadata": {
    "scrolled": true
   },
   "outputs": [
    {
     "data": {
      "text/plain": [
       "(0.0, 1.0)"
      ]
     },
     "execution_count": 20,
     "metadata": {},
     "output_type": "execute_result"
    },
    {
     "data": {
      "image/png": "[encoded data removed]",
      "text/plain": [
       "<Figure size 576x360 with 1 Axes>"
      ]
     },
     "metadata": {
      "needs_background": "light"
     },
     "output_type": "display_data"
    }
   ],
   "source": [
    "pd.DataFrame(history.history).plot(figsize=(8, 5))\n",
    "plt.grid(True)\n",
    "plt.gca().set_ylim(0, 1) # set the vertical range to [0-1]\n",
    "\n",
    "## the graphs show the simplicity of the dataset , even a single layer ANN tends to overfit but the regularisation has helped"
   ]
  },
  {
   "cell_type": "markdown",
   "metadata": {},
   "source": [
    "## 5.Calculate accuracy measures"
   ]
  },
  {
   "cell_type": "code",
   "execution_count": 21,
   "metadata": {},
   "outputs": [],
   "source": [
    "## using the test set to calculate , first we process the test set for prediction\n",
    "#NOTE:Only transform method we use, no fits as this is test data"
   ]
  },
  {
   "cell_type": "code",
   "execution_count": 22,
   "metadata": {},
   "outputs": [],
   "source": [
    "X_test_numeric=X_test[['Daily Time Spent on Site','Age', 'Area Income','Daily Internet Usage','Male']]\n",
    "X_test_numeric=pd.concat([X_test_numeric,pd.to_datetime(X_test.Timestamp).dt.dayofweek],axis=1)\n",
    "sequences = tokenizer.texts_to_sequences(X_test['Ad Topic Line'])\n",
    "padded = pad_sequences(sequences, maxlen=6) \n",
    "X_test_nlp= np.array(padded)\n",
    "X_test=np.concatenate((X_test_numeric,X_test_nlp),axis=1)\n",
    "X_test=ss.transform(X_test)"
   ]
  },
  {
   "cell_type": "code",
   "execution_count": 23,
   "metadata": {},
   "outputs": [
    {
     "name": "stdout",
     "output_type": "stream",
     "text": [
      "7/7 [==============================] - 0s 2ms/step - loss: 0.5213 - accuracy: 0.9500\n"
     ]
    },
    {
     "data": {
      "text/plain": [
       "[0.5213058590888977, 0.949999988079071]"
      ]
     },
     "execution_count": 23,
     "metadata": {},
     "output_type": "execute_result"
    }
   ],
   "source": [
    "## evaluating model accuracy\n",
    "model.evaluate(X_test,y_test)"
   ]
  }
 ],
 "metadata": {
  "kernelspec": {
   "display_name": "Python 3",
   "language": "python",
   "name": "python3"
  },
  "language_info": {
   "codemirror_mode": {
    "name": "ipython",
    "version": 3
   },
   "file_extension": ".py",
   "mimetype": "text/x-python",
   "name": "python",
   "nbconvert_exporter": "python",
   "pygments_lexer": "ipython3",
   "version": "3.7.6"
  }
 },
 "nbformat": 4,
 "nbformat_minor": 4
}
